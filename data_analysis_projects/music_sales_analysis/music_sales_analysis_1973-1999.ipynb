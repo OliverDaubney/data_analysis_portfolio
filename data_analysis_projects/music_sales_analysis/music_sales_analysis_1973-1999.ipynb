{
 "cells": [
  {
   "cell_type": "markdown",
   "id": "3154be6d",
   "metadata": {},
   "source": [
    "#### Data Analytics Professional (Coursera - Google) - Case Study"
   ]
  },
  {
   "cell_type": "markdown",
   "id": "660a15f8",
   "metadata": {},
   "source": [
    "# Case Study 1: Analysing Disruption of Media Storage Technology in the Music Industry from 1973 to 1999"
   ]
  },
  {
   "cell_type": "markdown",
   "id": "a2f1687e",
   "metadata": {},
   "source": [
    "Oliver Daubney <br>\n",
    "**2023-09-01**"
   ]
  },
  {
   "cell_type": "markdown",
   "id": "c11a574e",
   "metadata": {},
   "source": [
    "### Introduction\n",
    "The period of 1970-1999 saw a huge number of different data storage technologies <br> \n",
    "come and go. This case study will explore the sales of different media storage <br>\n",
    "technologies in the music industry from 1973 to 1999 with question such as:\n",
    "- What did music media sales look like between 1973 and 1999?\n",
    "- Did new media storage technology effect music sales volumes?\n",
    "- Did new media storage technology impact the sales of legacy media?\n",
    "- Is it possible to detect new media technologies by their disruptive <br>\n",
    "effects on related products?\n",
    "\n",
    "Insights from this analysis may help determine disruptive action within other market <br>\n",
    "environments and help companies more nimbly address market decisions."
   ]
  },
  {
   "cell_type": "markdown",
   "id": "e43a1f20",
   "metadata": {},
   "source": [
    "### Imports"
   ]
  },
  {
   "cell_type": "code",
   "execution_count": 1,
   "id": "dbecafe7",
   "metadata": {},
   "outputs": [],
   "source": [
    "import pandas as pd\n",
    "import matplotlib.pyplot as plt"
   ]
  },
  {
   "cell_type": "markdown",
   "id": "61d92e04",
   "metadata": {},
   "source": [
    "### Data - Source and Integrity Information\n",
    "The data utilised will be key sales volume information for technology from vinyl to cassettes <br>\n",
    "and cds. The data is volume of sales rather than value of sales to avoid complexity of inflation <br>\n",
    "but also to help elucidate interesting features about storage capacity and desirability of more <br>\n",
    "advanced technology.\n",
    "\n",
    "**Data Source:** *RIAA. Permission to cite or copy these statistics is hereby granted, as long as <br>\n",
    "proper attribution is given to the Recording Industry Association of America.* The data was <br>\n",
    "manually accessed from the [U.S. Music Revenue Database](https://www.riaa.com/u-s-sales-database/) on Friday 25 August 2023.\n",
    "\n",
    "**Data Integrity:** The data has been collected from the source and stored in a local CSV file. <br>\n",
    "This data is not currently updated (the period of interest is 1973-1999) as such a static local file <br>\n",
    "is acceptable. The data source logs reported sales information from a wide range of United <br>\n",
    "States outlets, however, it will not track second-hand purchases or any non-commercial trading. <br>\n",
    "The original source data is maintained by the U.S. Music Revenue Database and can be used <br> \n",
    "for secondary verification against the local file to check local file integrity.\n",
    "\n",
    "- Reliable: The RIAA is the definitive source of revenue data for the recorded music industry <br>\n",
    "in the United States.\n",
    "- Original: The data is collected and consolidated by the RIAA.\n",
    "- Comprehensive: The RIAA provides the most comprehensive data on U.S. recorded music <br>\n",
    "revenues and shipments.\n",
    "- Current: The RIAA maintain the database with current sales information.\n",
    "- Cited: The RIAA dataset is the industry standard for analysing U.S. recorded music <br>\n",
    "revenues and shipments."
   ]
  },
  {
   "cell_type": "markdown",
   "id": "571dfe88",
   "metadata": {},
   "source": [
    "### Loading Data\n",
    "The data is stored as a local CSV file (music_sales_volumes_US_1973-1999.csv). The data <br>\n",
    "is structured with a column for the year and then each subsequent field being a different <br>\n",
    "technology with the sales volume in millions of units."
   ]
  },
  {
   "cell_type": "code",
   "execution_count": 2,
   "id": "b2a39e4e",
   "metadata": {
    "scrolled": true
   },
   "outputs": [
    {
     "data": {
      "text/html": [
       "<div>\n",
       "<style scoped>\n",
       "    .dataframe tbody tr th:only-of-type {\n",
       "        vertical-align: middle;\n",
       "    }\n",
       "\n",
       "    .dataframe tbody tr th {\n",
       "        vertical-align: top;\n",
       "    }\n",
       "\n",
       "    .dataframe thead th {\n",
       "        text-align: right;\n",
       "    }\n",
       "</style>\n",
       "<table border=\"1\" class=\"dataframe\">\n",
       "  <thead>\n",
       "    <tr style=\"text-align: right;\">\n",
       "      <th></th>\n",
       "      <th>year</th>\n",
       "      <th>vinyl_single</th>\n",
       "      <th>lp-ep</th>\n",
       "      <th>eight_track</th>\n",
       "      <th>cassette</th>\n",
       "      <th>cassette_single</th>\n",
       "      <th>other_tapes</th>\n",
       "      <th>cd</th>\n",
       "      <th>cd_single</th>\n",
       "    </tr>\n",
       "  </thead>\n",
       "  <tbody>\n",
       "    <tr>\n",
       "      <th>0</th>\n",
       "      <td>1973</td>\n",
       "      <td>228.0</td>\n",
       "      <td>280.0</td>\n",
       "      <td>91.0</td>\n",
       "      <td>15.0</td>\n",
       "      <td>0.0</td>\n",
       "      <td>2.2</td>\n",
       "      <td>0.0</td>\n",
       "      <td>0.0</td>\n",
       "    </tr>\n",
       "    <tr>\n",
       "      <th>1</th>\n",
       "      <td>1974</td>\n",
       "      <td>204.0</td>\n",
       "      <td>276.0</td>\n",
       "      <td>96.7</td>\n",
       "      <td>15.3</td>\n",
       "      <td>0.0</td>\n",
       "      <td>1.9</td>\n",
       "      <td>0.0</td>\n",
       "      <td>0.0</td>\n",
       "    </tr>\n",
       "    <tr>\n",
       "      <th>2</th>\n",
       "      <td>1975</td>\n",
       "      <td>164.0</td>\n",
       "      <td>257.0</td>\n",
       "      <td>94.6</td>\n",
       "      <td>16.2</td>\n",
       "      <td>0.0</td>\n",
       "      <td>1.5</td>\n",
       "      <td>0.0</td>\n",
       "      <td>0.0</td>\n",
       "    </tr>\n",
       "    <tr>\n",
       "      <th>3</th>\n",
       "      <td>1976</td>\n",
       "      <td>190.0</td>\n",
       "      <td>273.0</td>\n",
       "      <td>106.1</td>\n",
       "      <td>21.8</td>\n",
       "      <td>0.0</td>\n",
       "      <td>0.7</td>\n",
       "      <td>0.0</td>\n",
       "      <td>0.0</td>\n",
       "    </tr>\n",
       "    <tr>\n",
       "      <th>4</th>\n",
       "      <td>1977</td>\n",
       "      <td>190.0</td>\n",
       "      <td>344.0</td>\n",
       "      <td>127.3</td>\n",
       "      <td>36.9</td>\n",
       "      <td>0.0</td>\n",
       "      <td>0.0</td>\n",
       "      <td>0.0</td>\n",
       "      <td>0.0</td>\n",
       "    </tr>\n",
       "  </tbody>\n",
       "</table>\n",
       "</div>"
      ],
      "text/plain": [
       "   year  vinyl_single  lp-ep  eight_track  cassette  cassette_single  \\\n",
       "0  1973         228.0  280.0         91.0      15.0              0.0   \n",
       "1  1974         204.0  276.0         96.7      15.3              0.0   \n",
       "2  1975         164.0  257.0         94.6      16.2              0.0   \n",
       "3  1976         190.0  273.0        106.1      21.8              0.0   \n",
       "4  1977         190.0  344.0        127.3      36.9              0.0   \n",
       "\n",
       "   other_tapes   cd  cd_single  \n",
       "0          2.2  0.0        0.0  \n",
       "1          1.9  0.0        0.0  \n",
       "2          1.5  0.0        0.0  \n",
       "3          0.7  0.0        0.0  \n",
       "4          0.0  0.0        0.0  "
      ]
     },
     "execution_count": 2,
     "metadata": {},
     "output_type": "execute_result"
    }
   ],
   "source": [
    "data = pd.read_csv('music_sales_volumes_US_1973-1999.csv')\n",
    "data.head(5)"
   ]
  },
  {
   "cell_type": "markdown",
   "id": "4223898b",
   "metadata": {},
   "source": [
    "### Data Cleaning and Verification\n",
    "The data cleaning/verification for this dataset checks three things:\n",
    "1. That each column contains a full set of non-null values.\n",
    "2. That the min/max for each column fall within a valid range.\n",
    "3. That the column data type is appropriate."
   ]
  },
  {
   "cell_type": "code",
   "execution_count": 3,
   "id": "164651ef",
   "metadata": {
    "scrolled": false
   },
   "outputs": [
    {
     "data": {
      "text/html": [
       "<div>\n",
       "<style scoped>\n",
       "    .dataframe tbody tr th:only-of-type {\n",
       "        vertical-align: middle;\n",
       "    }\n",
       "\n",
       "    .dataframe tbody tr th {\n",
       "        vertical-align: top;\n",
       "    }\n",
       "\n",
       "    .dataframe thead th {\n",
       "        text-align: right;\n",
       "    }\n",
       "</style>\n",
       "<table border=\"1\" class=\"dataframe\">\n",
       "  <thead>\n",
       "    <tr style=\"text-align: right;\">\n",
       "      <th></th>\n",
       "      <th>year</th>\n",
       "      <th>vinyl_single</th>\n",
       "      <th>lp-ep</th>\n",
       "      <th>eight_track</th>\n",
       "      <th>cassette</th>\n",
       "      <th>cassette_single</th>\n",
       "      <th>other_tapes</th>\n",
       "      <th>cd</th>\n",
       "      <th>cd_single</th>\n",
       "    </tr>\n",
       "  </thead>\n",
       "  <tbody>\n",
       "    <tr>\n",
       "      <th>count</th>\n",
       "      <td>27</td>\n",
       "      <td>27</td>\n",
       "      <td>27</td>\n",
       "      <td>27</td>\n",
       "      <td>27</td>\n",
       "      <td>27</td>\n",
       "      <td>27</td>\n",
       "      <td>27</td>\n",
       "      <td>27</td>\n",
       "    </tr>\n",
       "    <tr>\n",
       "      <th>min</th>\n",
       "      <td>1973</td>\n",
       "      <td>5.3</td>\n",
       "      <td>1.2</td>\n",
       "      <td>0.0</td>\n",
       "      <td>15.0</td>\n",
       "      <td>0.0</td>\n",
       "      <td>0.0</td>\n",
       "      <td>0.0</td>\n",
       "      <td>0.0</td>\n",
       "    </tr>\n",
       "    <tr>\n",
       "      <th>max</th>\n",
       "      <td>1999</td>\n",
       "      <td>228.0</td>\n",
       "      <td>344.0</td>\n",
       "      <td>133.6</td>\n",
       "      <td>450.1</td>\n",
       "      <td>87.4</td>\n",
       "      <td>2.2</td>\n",
       "      <td>938.9</td>\n",
       "      <td>66.7</td>\n",
       "    </tr>\n",
       "    <tr>\n",
       "      <th>dtypes</th>\n",
       "      <td>int64</td>\n",
       "      <td>float64</td>\n",
       "      <td>float64</td>\n",
       "      <td>float64</td>\n",
       "      <td>float64</td>\n",
       "      <td>float64</td>\n",
       "      <td>float64</td>\n",
       "      <td>float64</td>\n",
       "      <td>float64</td>\n",
       "    </tr>\n",
       "  </tbody>\n",
       "</table>\n",
       "</div>"
      ],
      "text/plain": [
       "         year vinyl_single    lp-ep eight_track cassette cassette_single  \\\n",
       "count      27           27       27          27       27              27   \n",
       "min      1973          5.3      1.2         0.0     15.0             0.0   \n",
       "max      1999        228.0    344.0       133.6    450.1            87.4   \n",
       "dtypes  int64      float64  float64     float64  float64         float64   \n",
       "\n",
       "       other_tapes       cd cd_single  \n",
       "count           27       27        27  \n",
       "min            0.0      0.0       0.0  \n",
       "max            2.2    938.9      66.7  \n",
       "dtypes     float64  float64   float64  "
      ]
     },
     "execution_count": 3,
     "metadata": {},
     "output_type": "execute_result"
    }
   ],
   "source": [
    "stats = ['count', 'min', 'max', 'dtypes']\n",
    "data.agg(\n",
    "    {column_name:stats for column_name in list(data.columns.values)}\n",
    ")"
   ]
  },
  {
   "cell_type": "markdown",
   "id": "64a4d9b0",
   "metadata": {},
   "source": [
    "### Basic Analysis - Consolidated Sales Volume\n",
    "At present the data includes numerous media types. These will be <br>\n",
    "consolidated into three categories of base technology such as vinyl, <br>\n",
    "tapes and cds."
   ]
  },
  {
   "cell_type": "code",
   "execution_count": 4,
   "id": "a3b834a8",
   "metadata": {},
   "outputs": [
    {
     "data": {
      "text/html": [
       "<div>\n",
       "<style scoped>\n",
       "    .dataframe tbody tr th:only-of-type {\n",
       "        vertical-align: middle;\n",
       "    }\n",
       "\n",
       "    .dataframe tbody tr th {\n",
       "        vertical-align: top;\n",
       "    }\n",
       "\n",
       "    .dataframe thead th {\n",
       "        text-align: right;\n",
       "    }\n",
       "</style>\n",
       "<table border=\"1\" class=\"dataframe\">\n",
       "  <thead>\n",
       "    <tr style=\"text-align: right;\">\n",
       "      <th></th>\n",
       "      <th>year</th>\n",
       "      <th>total_vinyl</th>\n",
       "      <th>total_tapes</th>\n",
       "      <th>total_cds</th>\n",
       "    </tr>\n",
       "  </thead>\n",
       "  <tbody>\n",
       "    <tr>\n",
       "      <th>0</th>\n",
       "      <td>1973</td>\n",
       "      <td>508.0</td>\n",
       "      <td>108.2</td>\n",
       "      <td>0.0</td>\n",
       "    </tr>\n",
       "    <tr>\n",
       "      <th>1</th>\n",
       "      <td>1974</td>\n",
       "      <td>480.0</td>\n",
       "      <td>113.9</td>\n",
       "      <td>0.0</td>\n",
       "    </tr>\n",
       "    <tr>\n",
       "      <th>2</th>\n",
       "      <td>1975</td>\n",
       "      <td>421.0</td>\n",
       "      <td>112.3</td>\n",
       "      <td>0.0</td>\n",
       "    </tr>\n",
       "    <tr>\n",
       "      <th>3</th>\n",
       "      <td>1976</td>\n",
       "      <td>463.0</td>\n",
       "      <td>128.6</td>\n",
       "      <td>0.0</td>\n",
       "    </tr>\n",
       "    <tr>\n",
       "      <th>4</th>\n",
       "      <td>1977</td>\n",
       "      <td>534.0</td>\n",
       "      <td>164.2</td>\n",
       "      <td>0.0</td>\n",
       "    </tr>\n",
       "  </tbody>\n",
       "</table>\n",
       "</div>"
      ],
      "text/plain": [
       "   year  total_vinyl  total_tapes  total_cds\n",
       "0  1973        508.0        108.2        0.0\n",
       "1  1974        480.0        113.9        0.0\n",
       "2  1975        421.0        112.3        0.0\n",
       "3  1976        463.0        128.6        0.0\n",
       "4  1977        534.0        164.2        0.0"
      ]
     },
     "execution_count": 4,
     "metadata": {},
     "output_type": "execute_result"
    }
   ],
   "source": [
    "data['total_vinyl'] = data['vinyl_single'] + data['lp-ep']\n",
    "data['total_tapes'] = data['eight_track'] + data['cassette'] + data['cassette_single'] + data['other_tapes']\n",
    "data['total_cds'] = data['cd'] + data['cd_single']\n",
    "data[['year', 'total_vinyl', 'total_tapes', 'total_cds']].head()"
   ]
  },
  {
   "cell_type": "code",
   "execution_count": 5,
   "id": "2d85e82b",
   "metadata": {},
   "outputs": [
    {
     "data": {
      "image/png": "[encoded data removed]",
      "text/plain": [
       "<Figure size 576x288 with 1 Axes>"
      ]
     },
     "metadata": {
      "needs_background": "light"
     },
     "output_type": "display_data"
    }
   ],
   "source": [
    "plt.figure(figsize=(8,4))\n",
    "plt.bar(data['year'], data['total_vinyl'], color='#142b33', label='Vinyl')\n",
    "plt.bar(data['year'], data['total_tapes'], bottom=data['total_vinyl'], color='#b9062f', label='Tapes')\n",
    "plt.bar(data['year'], data['total_cds'], bottom=data['total_tapes']+data['total_vinyl'], color='#98a631', label='CDs')\n",
    "\n",
    "plt.title('Cumulative Music Media Sales in the U.S. from 1973-1999', fontsize=14)\n",
    "plt.xlabel('Year', fontsize=12)\n",
    "plt.ylabel('Volume of Sales / Million Units', fontsize=12)\n",
    "plt.legend(loc='upper left')\n",
    "plt.show()"
   ]
  },
  {
   "cell_type": "markdown",
   "id": "a1624c45",
   "metadata": {},
   "source": [
    "The overall sale of media in the music industry increased over time. <br>\n",
    "It is interesting to note that over the course of 20 years the most sold <br>\n",
    "by volume technology switched three times, vinyl in 1975, tapes in <br>\n",
    "1985 and cds by 1995. <br>"
   ]
  },
  {
   "cell_type": "markdown",
   "id": "f7283fdc",
   "metadata": {},
   "source": [
    "### Basic Analysis - Separated Media Types\n",
    "Visualising the individual technologies as line plots can make it easier <br>\n",
    "to see general trends. The sale of tapes is a good example of a new <br> \n",
    "technology driving sales as the sale of records decreases, but then <br>\n",
    "when CDs enter the market the sale of tapes begins to decline."
   ]
  },
  {
   "cell_type": "code",
   "execution_count": 6,
   "id": "b1cf1497",
   "metadata": {
    "scrolled": true
   },
   "outputs": [
    {
     "data": {
      "image/png": "[encoded data removed]",
      "text/plain": [
       "<Figure size 576x288 with 1 Axes>"
      ]
     },
     "metadata": {
      "needs_background": "light"
     },
     "output_type": "display_data"
    }
   ],
   "source": [
    "fig, (ax1) = plt.subplots(1, 1, figsize=(8,4))\n",
    "\n",
    "ax1.plot(data['year'], data['total_vinyl'], '-', label='Vinyl', color='#142b33', lw=3)\n",
    "ax1.plot(data['year'], data['total_tapes'], '-', label='Tapes', color='#b9062f', lw=3)\n",
    "ax1.plot(data['year'], data['total_cds'], '-', label='CDs', color='#98a631', lw=3)\n",
    "\n",
    "ax1.set_title('Music Media Sales in the U.S. from 1973-1999', fontsize=14)\n",
    "ax1.set_xlabel('Year', fontsize=12)\n",
    "ax1.set_ylabel('Volume of Sales / Million Units', fontsize=12)\n",
    "ax1.set_ylim([-100, 1100])\n",
    "ax1.set_xlim([1970, 2000])\n",
    "ax1.tick_params(direction='in')\n",
    "ax1.legend(loc='upper left')\n",
    "ax1.grid()\n",
    "plt.show()"
   ]
  },
  {
   "cell_type": "markdown",
   "id": "09fc3502",
   "metadata": {},
   "source": [
    "### Further Analysis - Annual Change in Sale Volumes\n",
    "In order to plot the annual change in sales volume it is necessary <br>\n",
    "to create some additional columns and calculate these values. This <br>\n",
    "involved creating a separate dataframe (**c_data**) to contain the totals <br>\n",
    "for each media type and the calculated change is sales volume for <br>\n",
    "each type."
   ]
  },
  {
   "cell_type": "code",
   "execution_count": 7,
   "id": "e84cc5f7",
   "metadata": {},
   "outputs": [
    {
     "data": {
      "text/html": [
       "<div>\n",
       "<style scoped>\n",
       "    .dataframe tbody tr th:only-of-type {\n",
       "        vertical-align: middle;\n",
       "    }\n",
       "\n",
       "    .dataframe tbody tr th {\n",
       "        vertical-align: top;\n",
       "    }\n",
       "\n",
       "    .dataframe thead th {\n",
       "        text-align: right;\n",
       "    }\n",
       "</style>\n",
       "<table border=\"1\" class=\"dataframe\">\n",
       "  <thead>\n",
       "    <tr style=\"text-align: right;\">\n",
       "      <th></th>\n",
       "      <th>year</th>\n",
       "      <th>total_vinyl</th>\n",
       "      <th>total_tapes</th>\n",
       "      <th>total_cds</th>\n",
       "      <th>vinyl_annual_change</th>\n",
       "      <th>tapes_annual_change</th>\n",
       "      <th>cds_annual_change</th>\n",
       "    </tr>\n",
       "  </thead>\n",
       "  <tbody>\n",
       "    <tr>\n",
       "      <th>0</th>\n",
       "      <td>1973</td>\n",
       "      <td>508.0</td>\n",
       "      <td>108.2</td>\n",
       "      <td>0.0</td>\n",
       "      <td>0.000000</td>\n",
       "      <td>0.000000</td>\n",
       "      <td>0.0</td>\n",
       "    </tr>\n",
       "    <tr>\n",
       "      <th>1</th>\n",
       "      <td>1974</td>\n",
       "      <td>480.0</td>\n",
       "      <td>113.9</td>\n",
       "      <td>0.0</td>\n",
       "      <td>-0.055118</td>\n",
       "      <td>0.052680</td>\n",
       "      <td>0.0</td>\n",
       "    </tr>\n",
       "    <tr>\n",
       "      <th>2</th>\n",
       "      <td>1975</td>\n",
       "      <td>421.0</td>\n",
       "      <td>112.3</td>\n",
       "      <td>0.0</td>\n",
       "      <td>-0.122917</td>\n",
       "      <td>-0.014047</td>\n",
       "      <td>0.0</td>\n",
       "    </tr>\n",
       "    <tr>\n",
       "      <th>3</th>\n",
       "      <td>1976</td>\n",
       "      <td>463.0</td>\n",
       "      <td>128.6</td>\n",
       "      <td>0.0</td>\n",
       "      <td>0.099762</td>\n",
       "      <td>0.145147</td>\n",
       "      <td>0.0</td>\n",
       "    </tr>\n",
       "    <tr>\n",
       "      <th>4</th>\n",
       "      <td>1977</td>\n",
       "      <td>534.0</td>\n",
       "      <td>164.2</td>\n",
       "      <td>0.0</td>\n",
       "      <td>0.153348</td>\n",
       "      <td>0.276827</td>\n",
       "      <td>0.0</td>\n",
       "    </tr>\n",
       "  </tbody>\n",
       "</table>\n",
       "</div>"
      ],
      "text/plain": [
       "   year  total_vinyl  total_tapes  total_cds  vinyl_annual_change  \\\n",
       "0  1973        508.0        108.2        0.0             0.000000   \n",
       "1  1974        480.0        113.9        0.0            -0.055118   \n",
       "2  1975        421.0        112.3        0.0            -0.122917   \n",
       "3  1976        463.0        128.6        0.0             0.099762   \n",
       "4  1977        534.0        164.2        0.0             0.153348   \n",
       "\n",
       "   tapes_annual_change  cds_annual_change  \n",
       "0             0.000000                0.0  \n",
       "1             0.052680                0.0  \n",
       "2            -0.014047                0.0  \n",
       "3             0.145147                0.0  \n",
       "4             0.276827                0.0  "
      ]
     },
     "execution_count": 7,
     "metadata": {},
     "output_type": "execute_result"
    }
   ],
   "source": [
    "c_data = data[['year', 'total_vinyl', 'total_tapes', 'total_cds']].copy()\n",
    "\n",
    "c_data['vinyl_annual_change'] = 0.0\n",
    "c_data['tapes_annual_change'] = 0.0\n",
    "c_data['cds_annual_change'] = 0.0\n",
    "\n",
    "for i in range(1, len(c_data)):\n",
    "    if c_data.iloc[i-1, 1] != 0.0:\n",
    "        c_data.loc[i, 'vinyl_annual_change'] = (c_data.iloc[i, 1] - c_data.iloc[i-1, 1])/c_data.iloc[i-1, 1]\n",
    "    if c_data.iloc[i-1, 2] != 0.0:\n",
    "        c_data.loc[i, 'tapes_annual_change'] = (c_data.iloc[i, 2] - c_data.iloc[i-1, 2])/c_data.iloc[i-1, 2]\n",
    "    if c_data.iloc[i-1, 3] != 0.0:\n",
    "        c_data.loc[i, 'cds_annual_change'] = (c_data.iloc[i, 3] - c_data.iloc[i-1, 3])/c_data.iloc[i-1, 3]\n",
    "\n",
    "c_data.head()"
   ]
  },
  {
   "cell_type": "code",
   "execution_count": 10,
   "id": "421481d5",
   "metadata": {
    "scrolled": false
   },
   "outputs": [
    {
     "data": {
      "image/png": "[encoded data removed]",
      "text/plain": [
       "<Figure size 576x576 with 3 Axes>"
      ]
     },
     "metadata": {
      "needs_background": "light"
     },
     "output_type": "display_data"
    }
   ],
   "source": [
    "fig, (ax1, ax2, ax3) = plt.subplots(3, 1, figsize=(8,8), sharex=True)\n",
    "plt.subplots_adjust(hspace=0.05)\n",
    "\n",
    "ax1.plot([1970+i for i in range(0, 31)], [0 for i in range(0, 31)], '--', color='black', lw=1)\n",
    "ax1.plot(c_data['year'], c_data['vinyl_annual_change'], 'o-', color='#142b33', lw=2, ms=6)\n",
    "ax1.set_title(\"Annual Change in Music Media Sales Volumes in U.S.\")\n",
    "ax1.set_ylabel('Change in Vinyl')\n",
    "ax1.set_xlim([1970, 2000])\n",
    "ax1.set_ylim([-0.5, 0.5])\n",
    "ax1.tick_params(direction='in')\n",
    "ax1.grid()\n",
    "\n",
    "ax2.plot([1970+i for i in range(0, 31)], [0 for i in range(0, 31)], '--', color='black', lw=1)\n",
    "ax2.plot(c_data['year'], c_data['tapes_annual_change'], 'o-', color='#b9062f', lw=2, ms=6)\n",
    "ax2.set_ylabel('Change in Tapes')\n",
    "ax2.set_xlim([1970, 2000])\n",
    "ax2.set_ylim([-0.5, 0.5])\n",
    "ax2.tick_params(direction='in')\n",
    "ax2.grid()\n",
    "\n",
    "ax3.plot([1970+i for i in range(0, 31)], [0 for i in range(0, 31)], '--', color='black', lw=1)\n",
    "ax3.plot(c_data['year'], c_data['cds_annual_change'], 'o-', color='#98a631', lw=2, ms=6)\n",
    "ax3.set_xlabel('Year')\n",
    "ax3.set_ylabel('Change in CDs')\n",
    "ax3.set_xlim([1970, 2000])\n",
    "ax3.set_ylim([-4.0, 4.0])\n",
    "ax3.tick_params(direction='in')\n",
    "ax3.grid()\n",
    "\n",
    "plt.show()"
   ]
  },
  {
   "cell_type": "markdown",
   "id": "e9951726",
   "metadata": {},
   "source": [
    "It should be noted that for both Vinyl and Tapes, the initial market <br>\n",
    "entry is not included in the dataset. This results in the CDs leap from <br>\n",
    "1984 to 1985 appearing irregular rather than just a normal market uptake. <br>\n",
    "These plots seem to suggest that once the growth spends more time below <br>\n",
    "zero than above, in a 3 year moving average, then the technology has <br>\n",
    "peaked and there is likely to be a new technology taking the market share."
   ]
  },
  {
   "cell_type": "markdown",
   "id": "0f3a3474",
   "metadata": {},
   "source": [
    "### Further Analysis - Cumulative Change in Sale Volumes\n",
    "By taking a cumulative plot of the annual change in sale volumes, it can <br>\n",
    "be considered like a bank of sales growth. The plot will keep rising to a <br>\n",
    "plateau while the product sales are growing but will have a turning point <br>\n",
    "at the peak. This peak will indicate peak demand from which another <br>\n",
    "product may be inducing reduced demand."
   ]
  },
  {
   "cell_type": "code",
   "execution_count": 11,
   "id": "53a2e401",
   "metadata": {},
   "outputs": [
    {
     "data": {
      "text/html": [
       "<div>\n",
       "<style scoped>\n",
       "    .dataframe tbody tr th:only-of-type {\n",
       "        vertical-align: middle;\n",
       "    }\n",
       "\n",
       "    .dataframe tbody tr th {\n",
       "        vertical-align: top;\n",
       "    }\n",
       "\n",
       "    .dataframe thead th {\n",
       "        text-align: right;\n",
       "    }\n",
       "</style>\n",
       "<table border=\"1\" class=\"dataframe\">\n",
       "  <thead>\n",
       "    <tr style=\"text-align: right;\">\n",
       "      <th></th>\n",
       "      <th>year</th>\n",
       "      <th>vinyl_cumulative_change</th>\n",
       "      <th>tapes_cumulative_change</th>\n",
       "      <th>cds_cumulative_change</th>\n",
       "    </tr>\n",
       "  </thead>\n",
       "  <tbody>\n",
       "    <tr>\n",
       "      <th>0</th>\n",
       "      <td>1973</td>\n",
       "      <td>0.000000</td>\n",
       "      <td>0.000000</td>\n",
       "      <td>0.0</td>\n",
       "    </tr>\n",
       "    <tr>\n",
       "      <th>1</th>\n",
       "      <td>1974</td>\n",
       "      <td>-0.055118</td>\n",
       "      <td>0.052680</td>\n",
       "      <td>0.0</td>\n",
       "    </tr>\n",
       "    <tr>\n",
       "      <th>2</th>\n",
       "      <td>1975</td>\n",
       "      <td>-0.178035</td>\n",
       "      <td>0.038633</td>\n",
       "      <td>0.0</td>\n",
       "    </tr>\n",
       "    <tr>\n",
       "      <th>3</th>\n",
       "      <td>1976</td>\n",
       "      <td>-0.078272</td>\n",
       "      <td>0.183780</td>\n",
       "      <td>0.0</td>\n",
       "    </tr>\n",
       "    <tr>\n",
       "      <th>4</th>\n",
       "      <td>1977</td>\n",
       "      <td>0.075075</td>\n",
       "      <td>0.460607</td>\n",
       "      <td>0.0</td>\n",
       "    </tr>\n",
       "  </tbody>\n",
       "</table>\n",
       "</div>"
      ],
      "text/plain": [
       "   year  vinyl_cumulative_change  tapes_cumulative_change  \\\n",
       "0  1973                 0.000000                 0.000000   \n",
       "1  1974                -0.055118                 0.052680   \n",
       "2  1975                -0.178035                 0.038633   \n",
       "3  1976                -0.078272                 0.183780   \n",
       "4  1977                 0.075075                 0.460607   \n",
       "\n",
       "   cds_cumulative_change  \n",
       "0                    0.0  \n",
       "1                    0.0  \n",
       "2                    0.0  \n",
       "3                    0.0  \n",
       "4                    0.0  "
      ]
     },
     "execution_count": 11,
     "metadata": {},
     "output_type": "execute_result"
    }
   ],
   "source": [
    "c_data['vinyl_cumulative_change'] = 0.0\n",
    "c_data['tapes_cumulative_change'] = 0.0\n",
    "c_data['cds_cumulative_change'] = 0.0\n",
    "\n",
    "for i in range(1, len(c_data)):\n",
    "    c_data.loc[i, 'vinyl_cumulative_change'] = c_data.iloc[i, 4] + c_data.iloc[i-1, 7]\n",
    "    c_data.loc[i, 'tapes_cumulative_change'] = c_data.iloc[i, 5] + c_data.iloc[i-1, 8]\n",
    "    c_data.loc[i, 'cds_cumulative_change'] = c_data.iloc[i, 6] + c_data.iloc[i-1, 9]\n",
    "\n",
    "c_data[['year', 'vinyl_cumulative_change', 'tapes_cumulative_change', 'cds_cumulative_change']].head()"
   ]
  },
  {
   "cell_type": "code",
   "execution_count": 12,
   "id": "71c2c151",
   "metadata": {
    "scrolled": false
   },
   "outputs": [
    {
     "data": {
      "image/png": "[encoded data removed]",
      "text/plain": [
       "<Figure size 576x576 with 3 Axes>"
      ]
     },
     "metadata": {
      "needs_background": "light"
     },
     "output_type": "display_data"
    }
   ],
   "source": [
    "fig, (ax1, ax2, ax3) = plt.subplots(3, 1, figsize=(8,8), sharex=True)\n",
    "plt.subplots_adjust(hspace=0.05)\n",
    "\n",
    "ax1.plot([1970+i for i in range(0, 31)], [0 for i in range(0, 31)], '--', color='black', lw=1)\n",
    "ax1.plot(c_data['year'], c_data['vinyl_cumulative_change'], 'o-', color='#142b33', lw=2, ms=6)\n",
    "ax1.set_title(\"Cumulative Annual Change in Music Media Sales Volumes in U.S.\")\n",
    "ax1.set_ylabel('Change in Vinyl')\n",
    "ax1.set_xlim([1970, 2000])\n",
    "ax1.set_ylim([-4.0, 4.0])\n",
    "ax1.tick_params(direction='in')\n",
    "ax1.grid()\n",
    "\n",
    "ax2.plot([1970+i for i in range(0, 31)], [0 for i in range(0, 31)], '--', color='black', lw=1)\n",
    "ax2.plot(c_data['year'], c_data['tapes_cumulative_change'], 'o-', color='#b9062f', lw=2, ms=6)\n",
    "ax2.set_ylabel('Change in Tapes')\n",
    "ax2.set_xlim([1970, 2000])\n",
    "ax2.set_ylim([-2.0, 2.0])\n",
    "ax2.tick_params(direction='in')\n",
    "ax2.grid()\n",
    "\n",
    "ax3.plot([1970+i for i in range(0, 31)], [0 for i in range(0, 31)], '--', color='black', lw=1)\n",
    "ax3.plot(c_data['year'], c_data['cds_cumulative_change'], 'o-', color='#98a631', lw=2, ms=6)\n",
    "ax3.set_xlabel('Year')\n",
    "ax3.set_ylabel('Change in CDs')\n",
    "ax3.set_xlim([1970, 2000])\n",
    "ax3.set_ylim([-10.0, 10.0])\n",
    "ax3.tick_params(direction='in')\n",
    "ax3.grid()\n",
    "\n",
    "plt.show()"
   ]
  },
  {
   "cell_type": "markdown",
   "id": "ed174f99",
   "metadata": {},
   "source": [
    "Both vinyl and tapes lack the initial growth within the time-frame, as such <br> \n",
    "they can decrease below the zero line. The plot profile for tapes shows a <br>\n",
    "clear growth, peak and fall as CDs begin to grow in popularity. It should <br>\n",
    "be noted that the peak of cumulative change for tapes occurs in 1990, three <br>\n",
    "years before total number of CDs sold exceeded that of tapes sold. Note <br>\n",
    "that the rapid increase in cumulative growth for CDs rapidly begins to <br>\n",
    "plateau which is a potential indicator of approaching peak growth."
   ]
  },
  {
   "cell_type": "markdown",
   "id": "1bc94072",
   "metadata": {},
   "source": [
    "### Observations\n",
    "1. Overall, the sale of music media by volume increased from 1973 to 1999.\n",
    "2. New storage media improved sales overall, taking market dominance until <br>\n",
    "another technology appeared.\n",
    "3. As new storage media sale volumes increased the previous dominant <br>\n",
    "technology appeared to decrease (though not instantly but with a lag time).\n",
    "4. The cumulative annual change in music media sales could be used to <br>\n",
    "determine when a product has peaked and inform that there may be a market <br>\n",
    "contender. This pre-empts loss of majority market share as the peak for Tape <br>\n",
    "sales by volume was 3-4 years before CDs gained the majority market share."
   ]
  },
  {
   "cell_type": "markdown",
   "id": "9bdf9392",
   "metadata": {},
   "source": [
    "### Conclusions\n",
    "At present, there is insufficient data presented to directly link the cause <br>\n",
    "of legacy technology decline in sales with the growth of new technologies. <br>\n",
    "It should also be noted that this information is for sales data in the United <br>\n",
    "States and, as such, any conclusions may not generalise to other parts of the world. <br>\n",
    "\n",
    "1. Customers seem to enjoy embracing new and more data rich technologies with the <br>\n",
    "introduction of new technologies clearly driving increases in sales volumes. <br>\n",
    "2. Stakeholders in media technology should observe annual changes in sales volumes <br>\n",
    "to help give insight about potential disruption.\n",
    "3. Legacy technology sales volumes decrease with a lag time of a few years following <br>\n",
    "the release of a new technology.\n",
    "\n",
    "\n",
    "This initial study has highlighted some interesting trends and postulated a few <br>\n",
    "thoughts regarding the source of this behaviour. However, further analysis and questions <br>\n",
    "are required to understand the effect of price, song popularity, proximity to product <br>\n",
    "and overall availability of the product on sales volumes. This is particularly important <br>\n",
    "to understand where the technology led to significantly easier manufacturing and thus <br>\n",
    "a more cost-effective final product."
   ]
  }
 ],
 "metadata": {
  "kernelspec": {
   "display_name": "Python 3 (ipykernel)",
   "language": "python",
   "name": "python3"
  },
  "language_info": {
   "codemirror_mode": {
    "name": "ipython",
    "version": 3
   },
   "file_extension": ".py",
   "mimetype": "text/x-python",
   "name": "python",
   "nbconvert_exporter": "python",
   "pygments_lexer": "ipython3",
   "version": "3.10.4"
  }
 },
 "nbformat": 4,
 "nbformat_minor": 5
}
