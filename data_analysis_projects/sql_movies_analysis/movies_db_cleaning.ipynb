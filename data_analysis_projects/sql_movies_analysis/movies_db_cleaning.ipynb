{
 "cells": [
  {
   "cell_type": "markdown",
   "id": "7625f8d4",
   "metadata": {},
   "source": [
    " # Data Cleaning with SQL: IMDB Top 1000 Movies"
   ]
  },
  {
   "cell_type": "code",
   "execution_count": 1,
   "id": "b8c5588e",
   "metadata": {},
   "outputs": [],
   "source": [
    "# Importing dependencies for this project.\n",
    "import sqlite3"
   ]
  },
  {
   "cell_type": "markdown",
   "id": "09a3b627",
   "metadata": {},
   "source": [
    "## Objective\n",
    "This notebook is a quick reference example for cleaning data in an SQL database.  \n",
    "This is a continuation of the [Convert CSV to SQL Database](https://www.kaggle.com/code/oliverdaubney/convert-csv-to-sql-database) using data from kaggle<sup>1</sup>. <br>\n",
    "Link: __[Original Kaggle Dataset](https://www.kaggle.com/datasets/harshitshankhdhar/imdb-dataset-of-top-1000-movies-and-tv-shows)__ <br>"
   ]
  },
  {
   "cell_type": "markdown",
   "id": "92e9e57d",
   "metadata": {},
   "source": [
    "## Contents\n",
    "1. [Cleaning Strategy](#Cleaning-Strategy)\n",
    "2. [Database Connection](#Database-Connection)\n",
    "3. [Data Cleaning](#Data-Cleaning)\n",
    "    1. [Checking for Duplicate Records](#Checking-for-Duplicate-Records)\n",
    "    2. [Checking for NULL values](#Checking-for-NULL-values)\n",
    "    3. [Check Attribute Ranges](#Check-Attribute-Ranges)\n",
    "4. [Validating Data Cleaning](#Validating-Data-Cleaning)\n",
    "5. [Close Connection to the Database](#Close-Connection-to-the-Database)\n",
    "6. [References](#References)"
   ]
  },
  {
   "cell_type": "markdown",
   "id": "a4ad962d",
   "metadata": {},
   "source": [
    "## Cleaning Strategy\n",
    "This is just a simple example data cleaning strategy and it involves three steps.\n",
    "1. Checking for **Duplicate** records.\n",
    "2. Checking for **NULL** or empty values.\n",
    "3. Checking range of values for numerical attributes."
   ]
  },
  {
   "cell_type": "markdown",
   "id": "99e9879b",
   "metadata": {},
   "source": [
    "## Database Connection"
   ]
  },
  {
   "cell_type": "code",
   "execution_count": 2,
   "id": "5332cf45",
   "metadata": {},
   "outputs": [],
   "source": [
    "# Connecting to the database.\n",
    "connection = sqlite3.connect(\"data/movies.db\")\n",
    "connection.row_factory = sqlite3.Row\n",
    "minion = connection.cursor()"
   ]
  },
  {
   "cell_type": "code",
   "execution_count": 3,
   "id": "6c1deacd",
   "metadata": {},
   "outputs": [
    {
     "data": {
      "text/plain": [
       "['title',\n",
       " 'release_year',\n",
       " 'certificate',\n",
       " 'runtime',\n",
       " 'imdb_rating',\n",
       " 'num_votes',\n",
       " 'gross']"
      ]
     },
     "execution_count": 3,
     "metadata": {},
     "output_type": "execute_result"
    }
   ],
   "source": [
    "# Accessing all the column names.\n",
    "SQL_command = \"\"\"\n",
    "    PRAGMA\n",
    "        table_info(movies_data);\n",
    "\"\"\"\n",
    "minion.execute(SQL_command)\n",
    "column_names = []\n",
    "output = minion.fetchone()\n",
    "while output:\n",
    "    column_names.append(output[1])\n",
    "    output = minion.fetchone()\n",
    "column_names"
   ]
  },
  {
   "cell_type": "markdown",
   "id": "6b80f126",
   "metadata": {},
   "source": [
    "## Data Cleaning"
   ]
  },
  {
   "cell_type": "markdown",
   "id": "73a1e87e",
   "metadata": {},
   "source": [
    "### Checking for Duplicate Records\n",
    "The first part of the cleaning involves making sure each record is distinct."
   ]
  },
  {
   "cell_type": "code",
   "execution_count": 4,
   "id": "0c9e1b28",
   "metadata": {},
   "outputs": [
    {
     "name": "stdout",
     "output_type": "stream",
     "text": [
      "Total Records: 1000\n",
      "Distinct Records: 999\n"
     ]
    }
   ],
   "source": [
    "SQL_command = \"\"\"\n",
    "    SELECT\n",
    "        COUNT(title) AS title_count,\n",
    "        COUNT(DISTINCT title) AS unique_count\n",
    "    FROM\n",
    "        movies_data;\n",
    "\"\"\"\n",
    "minion.execute(SQL_command)\n",
    "data = minion.fetchone()\n",
    "print(f'Total Records: {data[\"title_count\"]}')\n",
    "print(f'Distinct Records: {data[\"unique_count\"]}')"
   ]
  },
  {
   "cell_type": "code",
   "execution_count": 5,
   "id": "2643ea1c",
   "metadata": {},
   "outputs": [
    {
     "name": "stdout",
     "output_type": "stream",
     "text": [
      "Drishyam\n"
     ]
    }
   ],
   "source": [
    "SQL_command = \"\"\"\n",
    "    SELECT\n",
    "        *\n",
    "    FROM\n",
    "        movies_data\n",
    "    GROUP BY\n",
    "        title\n",
    "    HAVING\n",
    "        COUNT(*) > 1;\n",
    "\"\"\"\n",
    "minion.execute(SQL_command)\n",
    "data = minion.fetchone()\n",
    "while data:\n",
    "    print(data['title'])\n",
    "    data = minion.fetchone()"
   ]
  },
  {
   "cell_type": "code",
   "execution_count": 6,
   "id": "7738bfe5",
   "metadata": {},
   "outputs": [
    {
     "name": "stdout",
     "output_type": "stream",
     "text": [
      "Drishyam, 2013, 160, 8.3\n",
      "Drishyam, 2015, 163, 8.2\n"
     ]
    }
   ],
   "source": [
    "SQL_command = \"\"\"\n",
    "    SELECT\n",
    "        *\n",
    "    FROM\n",
    "        movies_data\n",
    "    WHERE\n",
    "        title = 'Drishyam';\n",
    "\"\"\"\n",
    "minion.execute(SQL_command)\n",
    "data = minion.fetchone()\n",
    "while data:\n",
    "    print(f\"{data['title']}, {data['release_year']}, {data['runtime']}, {data['imdb_rating']}\")\n",
    "    data = minion.fetchone()"
   ]
  },
  {
   "cell_type": "markdown",
   "id": "7f9112bd",
   "metadata": {},
   "source": [
    "The two movies called 'Drishyam' are different films with the same title, as such, all records are distinct."
   ]
  },
  {
   "cell_type": "markdown",
   "id": "61260139",
   "metadata": {},
   "source": [
    "### Checking for NULL values\n",
    "The second part of the cleaning involves checking each field for empty or NULL values."
   ]
  },
  {
   "cell_type": "code",
   "execution_count": 7,
   "id": "5df46ca2",
   "metadata": {},
   "outputs": [
    {
     "name": "stdout",
     "output_type": "stream",
     "text": [
      "title: 1000\n",
      "release_year: 1000\n",
      "certificate: 899\n",
      "runtime: 1000\n",
      "imdb_rating: 1000\n",
      "num_votes: 1000\n",
      "gross: 831\n"
     ]
    }
   ],
   "source": [
    "SQL_command = \"\"\"\n",
    "    SELECT\n",
    "        COUNT(title) AS title_count,\n",
    "        COUNT(release_year) AS release_year_count,\n",
    "        COUNT(certificate) AS certificate_count,\n",
    "        COUNT(runtime) AS runtime_count,\n",
    "        COUNT(imdb_rating) AS imdb_count,\n",
    "        COUNT(num_votes) AS num_votes_count,\n",
    "        COUNT(gross) AS gross_count\n",
    "    FROM\n",
    "        movies_data;\n",
    "\"\"\"\n",
    "minion.execute(SQL_command)\n",
    "data = minion.fetchone()\n",
    "for i, key in enumerate(data.keys()):\n",
    "    print(f'{column_names[i]}: {data[key]}')"
   ]
  },
  {
   "cell_type": "markdown",
   "id": "0be67832",
   "metadata": {},
   "source": [
    "The gross value of the film field is missing for some values, however, we will just restrict the dataset when plotting against this parameter.  \n",
    "The certificate field is also missing a lot of values and merits further exploration. Let's check what categories are present in the certificate field."
   ]
  },
  {
   "cell_type": "code",
   "execution_count": 8,
   "id": "559124b1",
   "metadata": {},
   "outputs": [
    {
     "name": "stdout",
     "output_type": "stream",
     "text": [
      "A\n",
      "UA\n",
      "U\n",
      "PG-13\n",
      "R\n",
      "None\n",
      "PG\n",
      "G\n",
      "Passed\n",
      "TV-14\n",
      "16\n",
      "TV-MA\n",
      "Unrated\n",
      "GP\n",
      "Approved\n",
      "TV-PG\n",
      "U/A\n"
     ]
    }
   ],
   "source": [
    "SQL_command = \"\"\"\n",
    "    SELECT\n",
    "        DISTINCT(certificate)\n",
    "    FROM\n",
    "        movies_data\n",
    "\"\"\"\n",
    "minion.execute(SQL_command)\n",
    "data = minion.fetchone()\n",
    "while data:\n",
    "    print(data[0])\n",
    "    data = minion.fetchone()"
   ]
  },
  {
   "cell_type": "markdown",
   "id": "6b12c438",
   "metadata": {},
   "source": [
    "Firstly, any NULL certificate can be replaced with the category 'Unknown'."
   ]
  },
  {
   "cell_type": "code",
   "execution_count": 9,
   "id": "7b38c5f0",
   "metadata": {},
   "outputs": [],
   "source": [
    "SQL_command = \"\"\"\n",
    "    UPDATE\n",
    "        movies_data\n",
    "    SET\n",
    "        certificate = 'Unknown'\n",
    "    WHERE\n",
    "        certificate IS NULL;\n",
    "\"\"\"\n",
    "minion.execute(SQL_command)\n",
    "connection.commit()"
   ]
  },
  {
   "cell_type": "markdown",
   "id": "38d3b4d9",
   "metadata": {},
   "source": [
    "The certificate field has a lot of categories which are similar e.g PG, UA and TV-PG. These can be combined into a small set of categories (U - Unrestricted, PG - Parental Guidance, R - Restricted)."
   ]
  },
  {
   "cell_type": "code",
   "execution_count": 10,
   "id": "3529ff5a",
   "metadata": {},
   "outputs": [],
   "source": [
    "SQL_command = \"\"\"\n",
    "    UPDATE\n",
    "        movies_data\n",
    "    SET\n",
    "        certificate = 'U'\n",
    "    WHERE\n",
    "        certificate = 'G';\n",
    "\"\"\"\n",
    "minion.execute(SQL_command)\n",
    "connection.commit()\n",
    "\n",
    "SQL_command = \"\"\"\n",
    "    UPDATE\n",
    "        movies_data\n",
    "    SET\n",
    "        certificate = 'PG'\n",
    "    WHERE\n",
    "        certificate = 'UA' OR\n",
    "        certificate = 'PG-13' OR\n",
    "        certificate = 'Passed' OR\n",
    "        certificate = 'TV-14' OR\n",
    "        certificate = '16' OR\n",
    "        certificate = 'Unrated' OR\n",
    "        certificate = 'GP' OR\n",
    "        certificate = 'Approved' OR\n",
    "        certificate = 'TV-PG' OR\n",
    "        certificate = 'U/A';\n",
    "\"\"\"\n",
    "minion.execute(SQL_command)\n",
    "connection.commit()\n",
    "\n",
    "SQL_command = \"\"\"\n",
    "    UPDATE\n",
    "        movies_data\n",
    "    SET\n",
    "        certificate = 'R'\n",
    "    WHERE\n",
    "        certificate = 'A' OR\n",
    "        certificate = 'TV-MA';\n",
    "\"\"\"\n",
    "minion.execute(SQL_command)\n",
    "connection.commit()"
   ]
  },
  {
   "cell_type": "markdown",
   "id": "ab5abb32",
   "metadata": {},
   "source": [
    "### Check Attribute Ranges\n",
    "The ranges for numerical values can be used to check if they are reasonable or if there are strange outliers that may need cleaning."
   ]
  },
  {
   "cell_type": "code",
   "execution_count": 11,
   "id": "8d4d75e5",
   "metadata": {},
   "outputs": [
    {
     "name": "stdout",
     "output_type": "stream",
     "text": [
      "Release Year - Min:1920, Max:PG\n",
      "Runtime - Min:45, Max:321\n",
      "IMDB Rating - Min:7.6, Max:9.3\n",
      "Number of Votes - Min:25088, Max:2343110\n",
      "Gross Value - Min:1,000,045, Max:985,912\n"
     ]
    }
   ],
   "source": [
    "SQL_command = \"\"\"\n",
    "    SELECT\n",
    "        MIN(release_year) AS min_release_year,\n",
    "        MAX(release_year) AS max_release_year,\n",
    "        MIN(runtime) AS min_runtime,\n",
    "        MAX(runtime) AS max_runtime,\n",
    "        MIN(imdb_rating) AS min_imdb_rating,\n",
    "        MAX(imdb_rating) AS max_imdb_rating,\n",
    "        MIN(num_votes) AS min_num_votes,\n",
    "        MAX(num_votes) AS max_num_votes,\n",
    "        MIN(gross) AS min_gross,\n",
    "        MAX(gross) AS max_gross\n",
    "    FROM\n",
    "        movies_data;\n",
    "\"\"\"\n",
    "minion.execute(SQL_command)\n",
    "data = minion.fetchone()\n",
    "print(f'Release Year - Min:{data[\"min_release_year\"]}, Max:{data[\"max_release_year\"]}')\n",
    "print(f'Runtime - Min:{data[\"min_runtime\"]}, Max:{data[\"max_runtime\"]}')\n",
    "print(f'IMDB Rating - Min:{data[\"min_imdb_rating\"]}, Max:{data[\"max_imdb_rating\"]}')\n",
    "print(f'Number of Votes - Min:{data[\"min_num_votes\"]}, Max:{data[\"max_num_votes\"]}')\n",
    "print(f'Gross Value - Min:{data[\"min_gross\"]}, Max:{data[\"max_gross\"]}')"
   ]
  },
  {
   "cell_type": "markdown",
   "id": "61f90cc1",
   "metadata": {},
   "source": [
    "There is clearly a data error in the release_year column, so we will find the record and update it."
   ]
  },
  {
   "cell_type": "code",
   "execution_count": 12,
   "id": "348a1109",
   "metadata": {},
   "outputs": [
    {
     "name": "stdout",
     "output_type": "stream",
     "text": [
      "title: Apollo 13\n",
      "release_year: PG\n",
      "certificate: U\n",
      "runtime: 140\n",
      "imdb_rating: 7.6\n",
      "num_votes: 269197\n",
      "gross: 173,837,933\n"
     ]
    }
   ],
   "source": [
    "SQL_command = \"\"\"\n",
    "    SELECT\n",
    "        *\n",
    "    FROM\n",
    "        movies_data\n",
    "    WHERE\n",
    "        release_year = 'PG';\n",
    "\"\"\"\n",
    "minion.execute(SQL_command)\n",
    "data = minion.fetchone()\n",
    "for i, key in enumerate(data.keys()):\n",
    "    print(f'{column_names[i]}: {data[key]}')"
   ]
  },
  {
   "cell_type": "code",
   "execution_count": 13,
   "id": "8f5be9b3",
   "metadata": {},
   "outputs": [],
   "source": [
    "SQL_command = \"\"\"\n",
    "    UPDATE\n",
    "        movies_data\n",
    "    SET\n",
    "        release_year = 1995\n",
    "    WHERE\n",
    "        title = 'Apollo 13'\n",
    "\"\"\"\n",
    "minion.execute(SQL_command)\n",
    "connection.commit()"
   ]
  },
  {
   "cell_type": "markdown",
   "id": "b3dfdfef",
   "metadata": {},
   "source": [
    "The gross value column has a rather large error from when we set up the database. The values are not actually numbers but strings, so we can extract the whole column, edit and update the database."
   ]
  },
  {
   "cell_type": "code",
   "execution_count": 14,
   "id": "bd860b7c",
   "metadata": {},
   "outputs": [],
   "source": [
    "SQL_command = \"\"\"\n",
    "    SELECT\n",
    "        rowid,\n",
    "        gross\n",
    "    FROM\n",
    "        movies_data;\n",
    "\"\"\"\n",
    "minion.execute(SQL_command)\n",
    "values = []\n",
    "data = minion.fetchone()\n",
    "while data:\n",
    "    values.append([data[0], data[1]])\n",
    "    data = minion.fetchone()"
   ]
  },
  {
   "cell_type": "code",
   "execution_count": 15,
   "id": "f082003e",
   "metadata": {},
   "outputs": [],
   "source": [
    "for value in values:\n",
    "    if value[1] != None:\n",
    "        value[1] = int(value[1].replace(',', ''))"
   ]
  },
  {
   "cell_type": "code",
   "execution_count": 16,
   "id": "6ecc6fe9",
   "metadata": {},
   "outputs": [],
   "source": [
    "for value in values:\n",
    "    if value[1] != None:\n",
    "        SQL_command = f\"\"\"\n",
    "            UPDATE\n",
    "                movies_data\n",
    "            SET\n",
    "                gross = {value[1]}\n",
    "            WHERE\n",
    "                rowid = {value[0]}\n",
    "        \"\"\"\n",
    "        minion.execute(SQL_command)\n",
    "        connection.commit()"
   ]
  },
  {
   "cell_type": "markdown",
   "id": "41905f91",
   "metadata": {},
   "source": [
    "## Validating Data Cleaning\n",
    "The process of validating the cleaning is very similar to the cleaning. We just want to check that the changes made to the data have actually happened.\n",
    "1. We have already established that all records are unique during the cleaning.\n",
    "2. There should be no NULLS in the for certificates."
   ]
  },
  {
   "cell_type": "code",
   "execution_count": 17,
   "id": "73a06003",
   "metadata": {},
   "outputs": [
    {
     "name": "stdout",
     "output_type": "stream",
     "text": [
      "title: 1000\n",
      "release_year: 1000\n",
      "certificate: 1000\n",
      "runtime: 1000\n",
      "imdb_rating: 1000\n",
      "num_votes: 1000\n",
      "gross: 831\n"
     ]
    }
   ],
   "source": [
    "SQL_command = \"\"\"\n",
    "    SELECT\n",
    "        COUNT(title) AS title_count,\n",
    "        COUNT(release_year) AS release_year_count,\n",
    "        COUNT(certificate) AS certificate_count,\n",
    "        COUNT(runtime) AS runtime_count,\n",
    "        COUNT(imdb_rating) AS imdb_count,\n",
    "        COUNT(num_votes) AS num_votes_count,\n",
    "        COUNT(gross) AS gross_count\n",
    "    FROM\n",
    "        movies_data;\n",
    "\"\"\"\n",
    "minion.execute(SQL_command)\n",
    "data = minion.fetchone()\n",
    "for i, key in enumerate(data.keys()):\n",
    "    print(f'{column_names[i]}: {data[key]}')"
   ]
  },
  {
   "cell_type": "markdown",
   "id": "cfe3db05",
   "metadata": {},
   "source": [
    "3. All the numerical data ranges should be reasonable."
   ]
  },
  {
   "cell_type": "code",
   "execution_count": 18,
   "id": "4979f640",
   "metadata": {},
   "outputs": [
    {
     "name": "stdout",
     "output_type": "stream",
     "text": [
      "Release Year - Min:1920, Max:2020\n",
      "Runtime - Min:45, Max:321\n",
      "IMDB Rating - Min:7.6, Max:9.3\n",
      "Number of Votes - Min:25088, Max:2343110\n",
      "Gross Value - Min:1305.0, Max:936662225.0\n"
     ]
    }
   ],
   "source": [
    "SQL_command = \"\"\"\n",
    "    SELECT\n",
    "        MIN(release_year) AS min_release_year,\n",
    "        MAX(release_year) AS max_release_year,\n",
    "        MIN(runtime) AS min_runtime,\n",
    "        MAX(runtime) AS max_runtime,\n",
    "        MIN(imdb_rating) AS min_imdb_rating,\n",
    "        MAX(imdb_rating) AS max_imdb_rating,\n",
    "        MIN(num_votes) AS min_num_votes,\n",
    "        MAX(num_votes) AS max_num_votes,\n",
    "        MIN(gross) AS min_gross,\n",
    "        MAX(gross) AS max_gross\n",
    "    FROM\n",
    "        movies_data;\n",
    "\"\"\"\n",
    "minion.execute(SQL_command)\n",
    "data = minion.fetchone()\n",
    "print(f'Release Year - Min:{data[\"min_release_year\"]}, Max:{data[\"max_release_year\"]}')\n",
    "print(f'Runtime - Min:{data[\"min_runtime\"]}, Max:{data[\"max_runtime\"]}')\n",
    "print(f'IMDB Rating - Min:{data[\"min_imdb_rating\"]}, Max:{data[\"max_imdb_rating\"]}')\n",
    "print(f'Number of Votes - Min:{data[\"min_num_votes\"]}, Max:{data[\"max_num_votes\"]}')\n",
    "print(f'Gross Value - Min:{data[\"min_gross\"]}, Max:{data[\"max_gross\"]}')"
   ]
  },
  {
   "cell_type": "markdown",
   "id": "586f6e04",
   "metadata": {},
   "source": [
    "## Close Connection to the Database"
   ]
  },
  {
   "cell_type": "code",
   "execution_count": 19,
   "id": "7564de54",
   "metadata": {},
   "outputs": [],
   "source": [
    "connection.close()"
   ]
  },
  {
   "cell_type": "markdown",
   "id": "05a73779",
   "metadata": {},
   "source": [
    "## References\n",
    "1. The dataset was prepared by Harshit Shankhdhar from IMDB available information for their top-rated 1000 movies. Harshit Shankhdhar (2020). <i>IMDB Movies Dataset</i> [Data set]. Kaggle. https://www.kaggle.com/datasets/harshitshankhdhar/imdb-dataset-of-top-1000-movies-and-tv-shows"
   ]
  }
 ],
 "metadata": {
  "kernelspec": {
   "display_name": "Python 3 (ipykernel)",
   "language": "python",
   "name": "python3"
  },
  "language_info": {
   "codemirror_mode": {
    "name": "ipython",
    "version": 3
   },
   "file_extension": ".py",
   "mimetype": "text/x-python",
   "name": "python",
   "nbconvert_exporter": "python",
   "pygments_lexer": "ipython3",
   "version": "3.10.4"
  }
 },
 "nbformat": 4,
 "nbformat_minor": 5
}
