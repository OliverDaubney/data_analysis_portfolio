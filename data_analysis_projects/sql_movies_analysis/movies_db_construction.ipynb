{
 "cells": [
  {
   "cell_type": "markdown",
   "id": "7625f8d4",
   "metadata": {},
   "source": [
    " # Convert CSV to SQL Database: IMDB Top 1000 Movies"
   ]
  },
  {
   "cell_type": "markdown",
   "id": "b5d9f1ff",
   "metadata": {},
   "source": [
    "<div class=\"alert alert-block alert-warning\">\n",
    "    <b>WARNING</b> - Do not run this code as the database is already constructed! <br>\n",
    "    This document is for reference purposes only. <br>\n",
    "    1. The cursor object is commented out to avoid accidently overwriting the database.\n",
    "</div>"
   ]
  },
  {
   "cell_type": "code",
   "execution_count": 1,
   "id": "b8c5588e",
   "metadata": {},
   "outputs": [],
   "source": [
    "# Importing dependencies for this project.\n",
    "import sqlite3\n",
    "import pandas as pd"
   ]
  },
  {
   "cell_type": "markdown",
   "id": "09a3b627",
   "metadata": {},
   "source": [
    "## Objective\n",
    "This notebook is a quick reference example for taking CSV data and spinning up a basic SQLite database.  \n",
    "To convert the data provided from kaggle<sup>1</sup> to an SQL database.  \n",
    "Link: __[Original Kaggle Dataset](https://www.kaggle.com/datasets/harshitshankhdhar/imdb-dataset-of-top-1000-movies-and-tv-shows)__ <br>"
   ]
  },
  {
   "cell_type": "markdown",
   "id": "92e9e57d",
   "metadata": {},
   "source": [
    "## Contents\n",
    "1. [Database Structure](#Database-Structure)\n",
    "2. [Database Constructor](#Database-Constructor)\n",
    "3. [Reading Raw CSV Data](#Reading-Raw-CSV-Data)\n",
    "4. [Inserting Data into Table](#Inserting-Data-into-Table)\n",
    "5. [Validating Data Insertion](#Validating-Data-Insertion)\n",
    "6. [Close Connection to the Database](#Close-Connection-to-the-Database)\n",
    "7. [References](#References)"
   ]
  },
  {
   "cell_type": "markdown",
   "id": "a4ad962d",
   "metadata": {},
   "source": [
    "## Database Structure\n",
    "1. Database called movies.db containing <b>1</b> (one) table.\n",
    "2. Table called movies_data containing <b>8</b> (eight) attributes:\n",
    "    - <b>id</b> (Primary Key)\n",
    "    - <b>title</b> [string]\n",
    "    - <b>release_year</b> [yyyy]\n",
    "    - <b>certificate</b> [string]\n",
    "    - <b>runtime</b> [int]\n",
    "    - <b>imdb_rating</b> [float]\n",
    "    - <b>num_votes</b> [int]\n",
    "    - <b>gross</b> [float]"
   ]
  },
  {
   "cell_type": "markdown",
   "id": "99e9879b",
   "metadata": {},
   "source": [
    "## Database Constructor"
   ]
  },
  {
   "cell_type": "code",
   "execution_count": 2,
   "id": "5332cf45",
   "metadata": {},
   "outputs": [],
   "source": [
    "# Creating the database.\n",
    "connection = sqlite3.connect(\"data/movies.db\")\n",
    "# minion = connection.cursor()"
   ]
  },
  {
   "cell_type": "code",
   "execution_count": 3,
   "id": "fda6fe1b",
   "metadata": {},
   "outputs": [
    {
     "data": {
      "text/plain": [
       "<sqlite3.Cursor at 0x229f7a4c040>"
      ]
     },
     "execution_count": 3,
     "metadata": {},
     "output_type": "execute_result"
    }
   ],
   "source": [
    "# Creating the table.\n",
    "SQL_command = \"\"\"\n",
    "    CREATE TABLE\n",
    "        movies_data\n",
    "        (\n",
    "            title TEXT NOT NULL,\n",
    "            release_year TEXT,\n",
    "            certificate TEXT,\n",
    "            runtime INTEGER,\n",
    "            imdb_rating REAL NOT NULL,\n",
    "            num_votes INTEGER,\n",
    "            gross REAL\n",
    "        );\n",
    "\"\"\"\n",
    "minion.execute(SQL_command)"
   ]
  },
  {
   "cell_type": "code",
   "execution_count": 4,
   "id": "b71a4368",
   "metadata": {},
   "outputs": [
    {
     "data": {
      "text/plain": [
       "[('movies_data',)]"
      ]
     },
     "execution_count": 4,
     "metadata": {},
     "output_type": "execute_result"
    }
   ],
   "source": [
    "# Checking that the table was created.\n",
    "tables = minion.execute(\"SELECT name FROM sqlite_master\")\n",
    "tables.fetchall()"
   ]
  },
  {
   "cell_type": "markdown",
   "id": "d73db620",
   "metadata": {},
   "source": [
    "## Reading Raw CSV Data"
   ]
  },
  {
   "cell_type": "code",
   "execution_count": 5,
   "id": "657d2ed9",
   "metadata": {},
   "outputs": [
    {
     "name": "stdout",
     "output_type": "stream",
     "text": [
      "                                         Poster_Link  \\\n",
      "0  https://m.media-amazon.com/images/M/MV5BMDFkYT...   \n",
      "1  https://m.media-amazon.com/images/M/MV5BM2MyNj...   \n",
      "2  https://m.media-amazon.com/images/M/MV5BMTMxNT...   \n",
      "\n",
      "               Series_Title  Released_Year Certificate  Runtime  \\\n",
      "0  The Shawshank Redemption           1994           A  142 min   \n",
      "1             The Godfather           1972           A  175 min   \n",
      "2           The Dark Knight           2008          UA  152 min   \n",
      "\n",
      "                  Genre  IMDB_Rating  \\\n",
      "0                 Drama          9.3   \n",
      "1          Crime, Drama          9.2   \n",
      "2  Action, Crime, Drama          9.0   \n",
      "\n",
      "                                            Overview  Meta_score  \\\n",
      "0  Two imprisoned men bond over a number of years...          80   \n",
      "1  An organized crime dynasty's aging patriarch t...         100   \n",
      "2  When the menace known as the Joker wreaks havo...          84   \n",
      "\n",
      "               Director           Star1           Star2          Star3  \\\n",
      "0        Frank Darabont     Tim Robbins  Morgan Freeman     Bob Gunton   \n",
      "1  Francis Ford Coppola   Marlon Brando       Al Pacino     James Caan   \n",
      "2     Christopher Nolan  Christian Bale    Heath Ledger  Aaron Eckhart   \n",
      "\n",
      "            Star4  No_of_Votes        Gross  \n",
      "0  William Sadler      2343110   28,341,469  \n",
      "1    Diane Keaton      1620367  134,966,411  \n",
      "2   Michael Caine      2303232  534,858,444  \n"
     ]
    }
   ],
   "source": [
    "data = pd.read_csv(\"data/imdb_top_1000.csv\", nrows=3)\n",
    "print(data)"
   ]
  },
  {
   "cell_type": "markdown",
   "id": "cb799c91",
   "metadata": {},
   "source": [
    "## Inserting Data into Table"
   ]
  },
  {
   "cell_type": "code",
   "execution_count": 6,
   "id": "2c045beb",
   "metadata": {
    "scrolled": true
   },
   "outputs": [
    {
     "name": "stdout",
     "output_type": "stream",
     "text": [
      "Database Update Complete!\n"
     ]
    }
   ],
   "source": [
    "SQL_command = \"\"\"\n",
    "    INSERT INTO\n",
    "        movies_data\n",
    "    VALUES\n",
    "        (?, ?, ?, ?, ?, ?, ?);\n",
    "\"\"\"\n",
    "\n",
    "# Iterate the csv by chunks of 100.\n",
    "chunksize = 100\n",
    "for chunk in pd.read_csv(\"data/imdb_top_1000.csv\", chunksize=chunksize):\n",
    "    records = []\n",
    "    for index, row in chunk.iterrows():\n",
    "        record = (\n",
    "            row['Series_Title'],\n",
    "            row['Released_Year'],\n",
    "            row['Certificate'],\n",
    "            int(row['Runtime'].split()[0]),\n",
    "            row['IMDB_Rating'],\n",
    "            row['No_of_Votes'],\n",
    "            row['Gross']\n",
    "        )\n",
    "        records.append(record)\n",
    "    minion.executemany(SQL_command, records)\n",
    "    connection.commit()\n",
    "print('Database Update Complete!')"
   ]
  },
  {
   "cell_type": "markdown",
   "id": "41905f91",
   "metadata": {},
   "source": [
    "## Validating Data Insertion"
   ]
  },
  {
   "cell_type": "code",
   "execution_count": 7,
   "id": "73a06003",
   "metadata": {},
   "outputs": [
    {
     "name": "stdout",
     "output_type": "stream",
     "text": [
      "[(1000,)]\n"
     ]
    }
   ],
   "source": [
    "# Check the number of records in the table.\n",
    "SQL_command = \"\"\"\n",
    "    SELECT\n",
    "        COUNT(*)\n",
    "    FROM\n",
    "        movies_data;\n",
    "\"\"\"\n",
    "minion.execute(SQL_command)\n",
    "print(minion.fetchall())"
   ]
  },
  {
   "cell_type": "code",
   "execution_count": 8,
   "id": "4979f640",
   "metadata": {},
   "outputs": [
    {
     "name": "stdout",
     "output_type": "stream",
     "text": [
      "         SQL DATA        |         CSV FILE         \n",
      "1, The Shawshank Redemp     The Shawshank Redemp\n",
      "2, The Godfather            The Godfather\n",
      "3, The Dark Knight          The Dark Knight\n",
      "4, The Godfather: Part      The Godfather: Part \n",
      "5, 12 Angry Men             12 Angry Men\n",
      "6, The Lord of the Ring     The Lord of the Ring\n",
      "7, Pulp Fiction             Pulp Fiction\n",
      "8, Schindler's List         Schindler's List\n",
      "9, Inception                Inception\n"
     ]
    }
   ],
   "source": [
    "# Check the first 9 titles against the CSV file.\n",
    "SQL_command = \"\"\"\n",
    "    SELECT\n",
    "        rowid,\n",
    "        title\n",
    "    FROM\n",
    "        movies_data\n",
    "    WHERE\n",
    "        rowid < 10;\n",
    "\"\"\"\n",
    "minion.execute(SQL_command)\n",
    "data = pd.read_csv(\"data/imdb_top_1000.csv\", nrows=9)\n",
    "print(f'         SQL DATA        |         CSV FILE         ')\n",
    "for i in range(0, 9):\n",
    "    sql_data = minion.fetchone()\n",
    "    print(f'{sql_data[0]}, {sql_data[1][:20]} {data[\"Series_Title\"][i][:20]:>24}')"
   ]
  },
  {
   "cell_type": "markdown",
   "id": "586f6e04",
   "metadata": {},
   "source": [
    "## Close Connection to the Database"
   ]
  },
  {
   "cell_type": "code",
   "execution_count": 9,
   "id": "7564de54",
   "metadata": {},
   "outputs": [],
   "source": [
    "connection.close()"
   ]
  },
  {
   "cell_type": "markdown",
   "id": "05a73779",
   "metadata": {},
   "source": [
    "## References\n",
    "1. The dataset was prepared by Harshit Shankhdhar from IMDB available information for their top-rated 1000 movies. Harshit Shankhdhar (2020). <i>IMDB Movies Dataset</i> [Data set]. Kaggle. https://www.kaggle.com/datasets/harshitshankhdhar/imdb-dataset-of-top-1000-movies-and-tv-shows"
   ]
  }
 ],
 "metadata": {
  "kernelspec": {
   "display_name": "Python 3 (ipykernel)",
   "language": "python",
   "name": "python3"
  },
  "language_info": {
   "codemirror_mode": {
    "name": "ipython",
    "version": 3
   },
   "file_extension": ".py",
   "mimetype": "text/x-python",
   "name": "python",
   "nbconvert_exporter": "python",
   "pygments_lexer": "ipython3",
   "version": "3.10.4"
  }
 },
 "nbformat": 4,
 "nbformat_minor": 5
}
